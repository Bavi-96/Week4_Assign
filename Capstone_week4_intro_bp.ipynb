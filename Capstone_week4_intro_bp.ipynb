{
 "cells": [
  {
   "cell_type": "markdown",
   "metadata": {
    "collapsed": true
   },
   "source": [
    "## Capstone Project - Battle of Neighbourhoods"
   ]
  },
  {
   "cell_type": "markdown",
   "metadata": {},
   "source": [
    "### Coffee_Shop Recommendation"
   ]
  },
  {
   "cell_type": "markdown",
   "metadata": {},
   "source": [
    "<h3>  Problem Statement </h3>"
   ]
  },
  {
   "cell_type": "markdown",
   "metadata": {},
   "source": [
    "<span style= 'font-family:Cambria; font-size:1.5em'>Almost everyone loves coffee. It has been said that some 330 million cup of coffee are consumed everyday. What makes it more attractive to enter into the coffee business is the low starting cost in comparison with other businesses.The second thing that makes coffee business very appealing is that even though it is food service, and has the highest gnawing away rate than any other business, it has a higher profit margin. </span>"
   ]
  },
  {
   "cell_type": "markdown",
   "metadata": {},
   "source": [
    "### Business statement"
   ]
  },
  {
   "cell_type": "markdown",
   "metadata": {},
   "source": [
    "<span style= 'font-family:Arial; font-size:1.4em'> The idea of this study is to help people planning to start a new coffee shop in Salem to choose a right location where in Salem would it be best to open a cafe and what location seems to be the most popular.</span>"
   ]
  }
 ],
 "metadata": {
  "kernelspec": {
   "display_name": "Python 3.6",
   "language": "python",
   "name": "python3"
  },
  "language_info": {
   "codemirror_mode": {
    "name": "ipython",
    "version": 3
   },
   "file_extension": ".py",
   "mimetype": "text/x-python",
   "name": "python",
   "nbconvert_exporter": "python",
   "pygments_lexer": "ipython3",
   "version": "3.6.8"
  }
 },
 "nbformat": 4,
 "nbformat_minor": 1
}
